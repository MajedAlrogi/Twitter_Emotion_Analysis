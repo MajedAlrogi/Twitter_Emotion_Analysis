{
 "cells": [
  {
   "cell_type": "code",
   "execution_count": 29,
   "metadata": {},
   "outputs": [],
   "source": [
    "import pandas as pd\n",
    "from sklearn.model_selection import train_test_split\n",
    "from sklearn.preprocessing import LabelEncoder\n",
    "from transformers import BertTokenizer\n",
    "import torch\n",
    "\n",
    "# Load dataset\n",
    "df = pd.read_csv('data/twitter.csv')\n",
    "\n",
    "# Preprocess and encode labels\n",
    "label_encoder = LabelEncoder()\n",
    "df['encoded_feelings'] = label_encoder.fit_transform(df['Feeling'])\n",
    "\n",
    "# Reset the index of the DataFrame after any filtering or manipulation\n",
    "df = df.reset_index(drop=True)\n",
    "\n",
    "# Split dataset\n",
    "train_texts, val_texts, train_labels, val_labels = train_test_split(df['Tweets'], df['encoded_feelings'], test_size=0.2)\n",
    "\n",
    "# Initialize tokenizer\n",
    "tokenizer = BertTokenizer.from_pretrained('bert-base-uncased')\n",
    "\n",
    "# Tokenization\n",
    "train_encodings = tokenizer(list(train_texts), truncation=True, padding=True, max_length=128)\n",
    "val_encodings = tokenizer(list(val_texts), truncation=True, padding=True, max_length=128)"
   ]
  },
  {
   "cell_type": "code",
   "execution_count": 30,
   "metadata": {},
   "outputs": [],
   "source": [
    "from torch.utils.data import Dataset\n",
    "\n",
    "class TweetDataset(Dataset):\n",
    "    def __init__(self, encodings, labels):\n",
    "        self.encodings = encodings\n",
    "        self.labels = labels\n",
    "\n",
    "    def __getitem__(self, idx):\n",
    "        item = {key: torch.tensor(val[idx]) for key, val in self.encodings.items()}\n",
    "        item['labels'] = torch.tensor(self.labels.iloc[idx])  # Use .iloc for labels\n",
    "        return item\n",
    "\n",
    "    def __len__(self):\n",
    "        return len(self.labels)\n",
    "\n",
    "    \n",
    "# Assuming your tokenized data is in train_encodings and val_encodings\n",
    "# and your labels are in train_labels and val_labels\n",
    "train_dataset = TweetDataset(train_encodings, train_labels)\n",
    "val_dataset = TweetDataset(val_encodings, val_labels)"
   ]
  },
  {
   "cell_type": "code",
   "execution_count": 24,
   "metadata": {},
   "outputs": [
    {
     "name": "stdout",
     "output_type": "stream",
     "text": [
      "0    3\n",
      "1    3\n",
      "2    3\n",
      "3    3\n",
      "4    3\n",
      "Name: encoded_feelings, dtype: int64\n",
      "3\n"
     ]
    }
   ],
   "source": [
    "# Check the first few entries in the label Series\n",
    "print(df['encoded_feelings'].head())\n",
    "\n",
    "# Check if index 0 exists\n",
    "print(df['encoded_feelings'][0])"
   ]
  },
  {
   "cell_type": "code",
   "execution_count": 27,
   "metadata": {},
   "outputs": [
    {
     "name": "stdout",
     "output_type": "stream",
     "text": [
      "6669     #4: @Jen Robinson ed \"RT @paulajaynebyrne: Bo...\n",
      "1933     #46: @インドトラブル解決屋 まっちゃん ed \"@tokyo2africa ナイロビ...\n",
      "6737     #72: @ShubzyShubzyShubzy ed \"RT @IslamicTongu...\n",
      "6419     #28: @Elise ed \"RT @grimelliottini: Clearly m...\n",
      "7457     #29: @Ирина Севостьянова ed \"What a pleasant ...\n",
      "Name: Tweets, dtype: object\n",
      " #4: @Jen Robinson ed \"RT @paulajaynebyrne: Bored of fake modesty. Paul Johnson described this as ‘the best book on Jane Austen I have ever read!’ RT and I’ll pic…\"\n",
      " #46: @インドトラブル解決屋 まっちゃん ed \"@tokyo2africa ナイロビ国内、、ってことですよね？？\"\n",
      " #72: @ShubzyShubzyShubzy ed \"RT @IslamicTongue: Sisters, hijab is not a fashion statement, it is an act of worship first and foremost. Keep your modesty intact. May All…\"\n",
      " #28: @Elise ed \"RT @grimelliottini: Clearly morals of humanity are all an act. Pathetic... we think we are the best...@ChurchofSatan has it right\"Satan r…\"\n",
      " #29: @Ирина Севостьянова ed \"What a pleasant surprise! In 7 minutes i will be performing completely naked in this chat! Сome on! Look at me, it's absolutely free! I am waiting for you, i am your delicious!!!!        https://t.co/ut90llBIWS https://t.co/7Ek9Ec1xuV\"\n"
     ]
    }
   ],
   "source": [
    "# Verify the first few entries in train_texts\n",
    "print(train_texts.head())\n",
    "\n",
    "# Try accessing the first few entries\n",
    "for i in range(5):\n",
    "    print(train_texts.iloc[i])"
   ]
  },
  {
   "cell_type": "code",
   "execution_count": 2,
   "metadata": {},
   "outputs": [
    {
     "data": {
      "text/html": [
       "<div>\n",
       "<style scoped>\n",
       "    .dataframe tbody tr th:only-of-type {\n",
       "        vertical-align: middle;\n",
       "    }\n",
       "\n",
       "    .dataframe tbody tr th {\n",
       "        vertical-align: top;\n",
       "    }\n",
       "\n",
       "    .dataframe thead th {\n",
       "        text-align: right;\n",
       "    }\n",
       "</style>\n",
       "<table border=\"1\" class=\"dataframe\">\n",
       "  <thead>\n",
       "    <tr style=\"text-align: right;\">\n",
       "      <th></th>\n",
       "      <th>Sl no</th>\n",
       "      <th>Tweets</th>\n",
       "      <th>Search key</th>\n",
       "      <th>Feeling</th>\n",
       "      <th>encoded_emotions</th>\n",
       "    </tr>\n",
       "  </thead>\n",
       "  <tbody>\n",
       "    <tr>\n",
       "      <th>0</th>\n",
       "      <td>1</td>\n",
       "      <td>#1: @fe ed \"RT @MirayaDizon1: Time is ticking...</td>\n",
       "      <td>happy moments</td>\n",
       "      <td>happy</td>\n",
       "      <td>3</td>\n",
       "    </tr>\n",
       "    <tr>\n",
       "      <th>1</th>\n",
       "      <td>2</td>\n",
       "      <td>#2: @蓮花 &amp;はすか ed \"RT @ninjaryugo: ＃コナモンの日 だそうで...</td>\n",
       "      <td>happy moments</td>\n",
       "      <td>happy</td>\n",
       "      <td>3</td>\n",
       "    </tr>\n",
       "    <tr>\n",
       "      <th>2</th>\n",
       "      <td>3</td>\n",
       "      <td>#3: @Ris ♡ ed \"Happy birthday to one smokin h...</td>\n",
       "      <td>happy moments</td>\n",
       "      <td>happy</td>\n",
       "      <td>3</td>\n",
       "    </tr>\n",
       "    <tr>\n",
       "      <th>3</th>\n",
       "      <td>4</td>\n",
       "      <td>#4: @월월 [씍쯴사랑로봇] jwinnie is the best, cheer u...</td>\n",
       "      <td>happy moments</td>\n",
       "      <td>happy</td>\n",
       "      <td>3</td>\n",
       "    </tr>\n",
       "    <tr>\n",
       "      <th>4</th>\n",
       "      <td>5</td>\n",
       "      <td>#5: @Madhurima wth u vc♥ ed \"Good morning dea...</td>\n",
       "      <td>happy moments</td>\n",
       "      <td>happy</td>\n",
       "      <td>3</td>\n",
       "    </tr>\n",
       "  </tbody>\n",
       "</table>\n",
       "</div>"
      ],
      "text/plain": [
       "   Sl no                                             Tweets     Search key  \\\n",
       "0      1   #1: @fe ed \"RT @MirayaDizon1: Time is ticking...  happy moments   \n",
       "1      2   #2: @蓮花 &はすか ed \"RT @ninjaryugo: ＃コナモンの日 だそうで...  happy moments   \n",
       "2      3   #3: @Ris ♡ ed \"Happy birthday to one smokin h...  happy moments   \n",
       "3      4   #4: @월월 [씍쯴사랑로봇] jwinnie is the best, cheer u...  happy moments   \n",
       "4      5   #5: @Madhurima wth u vc♥ ed \"Good morning dea...  happy moments   \n",
       "\n",
       "  Feeling  encoded_emotions  \n",
       "0   happy                 3  \n",
       "1   happy                 3  \n",
       "2   happy                 3  \n",
       "3   happy                 3  \n",
       "4   happy                 3  "
      ]
     },
     "metadata": {},
     "output_type": "display_data"
    }
   ],
   "source": [
    "display(df.head())"
   ]
  },
  {
   "cell_type": "code",
   "execution_count": 3,
   "metadata": {},
   "outputs": [
    {
     "name": "stderr",
     "output_type": "stream",
     "text": [
      "/home/malrogi101/miniconda3/envs/mathML/lib/python3.11/site-packages/seaborn/axisgrid.py:118: UserWarning: The figure layout has changed to tight\n",
      "  self._figure.tight_layout(*args, **kwargs)\n"
     ]
    },
    {
     "data": {
      "text/plain": [
       "<seaborn.axisgrid.FacetGrid at 0x7f6df0514d90>"
      ]
     },
     "execution_count": 3,
     "metadata": {},
     "output_type": "execute_result"
    },
    {
     "data": {
      "image/png": "[encoded data removed]",
      "text/plain": [
       "<Figure size 1800x300 with 6 Axes>"
      ]
     },
     "metadata": {},
     "output_type": "display_data"
    }
   ],
   "source": [
    "import seaborn as sns\n",
    "import matplotlib.pyplot as plt\n",
    "df.describe(include='all')\n",
    "df['length'] = df['Tweets'].apply(len)\n",
    "df.head()\n",
    "graph = sns.FacetGrid(data=df,col='Feeling')\n",
    "graph.map(plt.hist,'length',bins=50,color='Purple')"
   ]
  },
  {
   "cell_type": "code",
   "execution_count": 4,
   "metadata": {},
   "outputs": [
    {
     "name": "stdout",
     "output_type": "stream",
     "text": [
      "Feeling\n",
      "happy       3928\n",
      "sad         2849\n",
      "angry       1341\n",
      "fear         863\n",
      "disgust      637\n",
      "surprise     399\n",
      "Name: count, dtype: int64\n"
     ]
    }
   ],
   "source": [
    "# Calculate label frequencies\n",
    "label_frequencies = df['Feeling'].value_counts()\n",
    "\n",
    "# Print the frequencies\n",
    "print(label_frequencies)"
   ]
  },
  {
   "cell_type": "code",
   "execution_count": null,
   "metadata": {},
   "outputs": [],
   "source": []
  },
  {
   "cell_type": "code",
   "execution_count": 31,
   "metadata": {},
   "outputs": [
    {
     "name": "stdout",
     "output_type": "stream",
     "text": [
      "3\n",
      "2004\n"
     ]
    }
   ],
   "source": [
    "print(train_labels[1])\n",
    "print(len(val_dataset))\n"
   ]
  },
  {
   "cell_type": "code",
   "execution_count": null,
   "metadata": {},
   "outputs": [],
   "source": []
  },
  {
   "cell_type": "code",
   "execution_count": 32,
   "metadata": {},
   "outputs": [
    {
     "name": "stderr",
     "output_type": "stream",
     "text": [
      "Some weights of BertForSequenceClassification were not initialized from the model checkpoint at bert-base-uncased and are newly initialized: ['classifier.weight', 'classifier.bias']\n",
      "You should probably TRAIN this model on a down-stream task to be able to use it for predictions and inference.\n"
     ]
    },
    {
     "data": {
      "text/html": [
       "\n",
       "    <div>\n",
       "      \n",
       "      <progress value='1503' max='1503' style='width:300px; height:20px; vertical-align: middle;'></progress>\n",
       "      [1503/1503 3:43:47, Epoch 3/3]\n",
       "    </div>\n",
       "    <table border=\"1\" class=\"dataframe\">\n",
       "  <thead>\n",
       " <tr style=\"text-align: left;\">\n",
       "      <th>Step</th>\n",
       "      <th>Training Loss</th>\n",
       "      <th>Validation Loss</th>\n",
       "    </tr>\n",
       "  </thead>\n",
       "  <tbody>\n",
       "    <tr>\n",
       "      <td>50</td>\n",
       "      <td>No log</td>\n",
       "      <td>1.368226</td>\n",
       "    </tr>\n",
       "    <tr>\n",
       "      <td>100</td>\n",
       "      <td>No log</td>\n",
       "      <td>0.886317</td>\n",
       "    </tr>\n",
       "    <tr>\n",
       "      <td>150</td>\n",
       "      <td>No log</td>\n",
       "      <td>0.539462</td>\n",
       "    </tr>\n",
       "    <tr>\n",
       "      <td>200</td>\n",
       "      <td>No log</td>\n",
       "      <td>0.397964</td>\n",
       "    </tr>\n",
       "    <tr>\n",
       "      <td>250</td>\n",
       "      <td>No log</td>\n",
       "      <td>0.362704</td>\n",
       "    </tr>\n",
       "    <tr>\n",
       "      <td>300</td>\n",
       "      <td>No log</td>\n",
       "      <td>0.351977</td>\n",
       "    </tr>\n",
       "    <tr>\n",
       "      <td>350</td>\n",
       "      <td>No log</td>\n",
       "      <td>0.320445</td>\n",
       "    </tr>\n",
       "    <tr>\n",
       "      <td>400</td>\n",
       "      <td>No log</td>\n",
       "      <td>0.310103</td>\n",
       "    </tr>\n",
       "    <tr>\n",
       "      <td>450</td>\n",
       "      <td>No log</td>\n",
       "      <td>0.342750</td>\n",
       "    </tr>\n",
       "    <tr>\n",
       "      <td>500</td>\n",
       "      <td>0.611300</td>\n",
       "      <td>0.327543</td>\n",
       "    </tr>\n",
       "    <tr>\n",
       "      <td>550</td>\n",
       "      <td>0.611300</td>\n",
       "      <td>0.301600</td>\n",
       "    </tr>\n",
       "    <tr>\n",
       "      <td>600</td>\n",
       "      <td>0.611300</td>\n",
       "      <td>0.357831</td>\n",
       "    </tr>\n",
       "    <tr>\n",
       "      <td>650</td>\n",
       "      <td>0.611300</td>\n",
       "      <td>0.298201</td>\n",
       "    </tr>\n",
       "    <tr>\n",
       "      <td>700</td>\n",
       "      <td>0.611300</td>\n",
       "      <td>0.296688</td>\n",
       "    </tr>\n",
       "    <tr>\n",
       "      <td>750</td>\n",
       "      <td>0.611300</td>\n",
       "      <td>0.281018</td>\n",
       "    </tr>\n",
       "    <tr>\n",
       "      <td>800</td>\n",
       "      <td>0.611300</td>\n",
       "      <td>0.289493</td>\n",
       "    </tr>\n",
       "    <tr>\n",
       "      <td>850</td>\n",
       "      <td>0.611300</td>\n",
       "      <td>0.307110</td>\n",
       "    </tr>\n",
       "    <tr>\n",
       "      <td>900</td>\n",
       "      <td>0.611300</td>\n",
       "      <td>0.274939</td>\n",
       "    </tr>\n",
       "    <tr>\n",
       "      <td>950</td>\n",
       "      <td>0.611300</td>\n",
       "      <td>0.301505</td>\n",
       "    </tr>\n",
       "    <tr>\n",
       "      <td>1000</td>\n",
       "      <td>0.224000</td>\n",
       "      <td>0.275872</td>\n",
       "    </tr>\n",
       "    <tr>\n",
       "      <td>1050</td>\n",
       "      <td>0.224000</td>\n",
       "      <td>0.290644</td>\n",
       "    </tr>\n",
       "    <tr>\n",
       "      <td>1100</td>\n",
       "      <td>0.224000</td>\n",
       "      <td>0.311039</td>\n",
       "    </tr>\n",
       "    <tr>\n",
       "      <td>1150</td>\n",
       "      <td>0.224000</td>\n",
       "      <td>0.299044</td>\n",
       "    </tr>\n",
       "    <tr>\n",
       "      <td>1200</td>\n",
       "      <td>0.224000</td>\n",
       "      <td>0.321930</td>\n",
       "    </tr>\n",
       "    <tr>\n",
       "      <td>1250</td>\n",
       "      <td>0.224000</td>\n",
       "      <td>0.312509</td>\n",
       "    </tr>\n",
       "    <tr>\n",
       "      <td>1300</td>\n",
       "      <td>0.224000</td>\n",
       "      <td>0.337138</td>\n",
       "    </tr>\n",
       "    <tr>\n",
       "      <td>1350</td>\n",
       "      <td>0.224000</td>\n",
       "      <td>0.320773</td>\n",
       "    </tr>\n",
       "    <tr>\n",
       "      <td>1400</td>\n",
       "      <td>0.224000</td>\n",
       "      <td>0.311948</td>\n",
       "    </tr>\n",
       "    <tr>\n",
       "      <td>1450</td>\n",
       "      <td>0.224000</td>\n",
       "      <td>0.312434</td>\n",
       "    </tr>\n",
       "    <tr>\n",
       "      <td>1500</td>\n",
       "      <td>0.118700</td>\n",
       "      <td>0.310794</td>\n",
       "    </tr>\n",
       "  </tbody>\n",
       "</table><p>"
      ],
      "text/plain": [
       "<IPython.core.display.HTML object>"
      ]
     },
     "metadata": {},
     "output_type": "display_data"
    },
    {
     "data": {
      "text/plain": [
       "TrainOutput(global_step=1503, training_loss=0.31806276801103606, metrics={'train_runtime': 13433.5231, 'train_samples_per_second': 1.789, 'train_steps_per_second': 0.112, 'total_flos': 1581288453914112.0, 'train_loss': 0.31806276801103606, 'epoch': 3.0})"
      ]
     },
     "execution_count": 32,
     "metadata": {},
     "output_type": "execute_result"
    }
   ],
   "source": [
    "# Load pre-trained BERT model\n",
    "model = BertForSequenceClassification.from_pretrained('bert-base-uncased', num_labels=6)\n",
    "\n",
    "# Calculate class weights\n",
    "class_weights = compute_class_weight('balanced', classes=np.unique(train_labels), y=train_labels)\n",
    "class_weights = torch.tensor(class_weights, dtype=torch.float)\n",
    "\n",
    "# Pass class weights to loss function\n",
    "training_args = TrainingArguments(\n",
    "    output_dir='./results',\n",
    "    num_train_epochs=3,\n",
    "    per_device_train_batch_size=16,\n",
    "    per_device_eval_batch_size=64,\n",
    "    weight_decay=0.01,\n",
    "    logging_dir='./logs',\n",
    "    evaluation_strategy='steps',  # Set evaluation to occur at regular intervals\n",
    "    eval_steps=50,               # Evaluate every 50 steps (adjust as needed)\n",
    "    save_strategy='steps',       # Save at regular intervals\n",
    "    save_steps=50,               # Save every 50 steps (should match eval_steps)\n",
    "    load_best_model_at_end=True  # Load the best model at the end of training\n",
    ")\n",
    "\n",
    "\n",
    "# Define Trainer with class weights\n",
    "trainer = Trainer(\n",
    "    model=model,\n",
    "    args=training_args,\n",
    "    train_dataset=train_dataset,\n",
    "    eval_dataset=val_dataset,\n",
    "    compute_metrics=None  # You can define a custom compute_metrics function if needed\n",
    ")\n",
    "\n",
    "# Train the model\n",
    "trainer.train()"
   ]
  },
  {
   "cell_type": "code",
   "execution_count": 34,
   "metadata": {},
   "outputs": [],
   "source": [
    "from torch.utils.data import DataLoader\n",
    "\n",
    "# Assuming val_dataset is your validation dataset\n",
    "val_loader = DataLoader(val_dataset, batch_size=512, shuffle=False)\n",
    "\n",
    "# Switch model to evaluation mode\n",
    "model.eval()\n",
    "\n",
    "predictions = []\n",
    "actuals = []\n",
    "\n",
    "# No gradient is needed for validation\n",
    "with torch.no_grad():\n",
    "    for batch in val_loader:\n",
    "        inputs = batch['input_ids']\n",
    "        labels = batch['labels']\n",
    "        outputs = model(inputs)\n",
    "\n",
    "        # Extract logits\n",
    "        logits = outputs.logits  # Extract logits from SequenceClassifierOutput\n",
    "        \n",
    "        # Convert logits to probabilities and then to predicted class\n",
    "        probs = torch.nn.functional.softmax(logits, dim=1)\n",
    "        predicted_classes = torch.argmax(probs, dim=1)\n",
    "        \n",
    "        predictions.extend(predicted_classes.cpu().numpy())\n",
    "        actuals.extend(labels.cpu().numpy())"
   ]
  },
  {
   "cell_type": "code",
   "execution_count": 35,
   "metadata": {},
   "outputs": [
    {
     "data": {
      "image/png": "[encoded data removed]",
      "text/plain": [
       "<Figure size 1000x1000 with 2 Axes>"
      ]
     },
     "metadata": {},
     "output_type": "display_data"
    }
   ],
   "source": [
    "from sklearn.metrics import confusion_matrix\n",
    "import matplotlib.pyplot as plt\n",
    "import seaborn as sns\n",
    "\n",
    "# Generate the confusion matrix\n",
    "cm = confusion_matrix(actuals, predictions)\n",
    "\n",
    "# Plotting the confusion matrix\n",
    "plt.figure(figsize=(10,10))\n",
    "sns.heatmap(cm, annot=True, fmt='g')\n",
    "plt.xlabel('Predicted')\n",
    "plt.ylabel('Actual')\n",
    "plt.show()"
   ]
  },
  {
   "cell_type": "code",
   "execution_count": 36,
   "metadata": {},
   "outputs": [
    {
     "name": "stdout",
     "output_type": "stream",
     "text": [
      "Accuracy: 0.9196606786427146\n",
      "Recall: 0.9196606786427146\n",
      "Precision: 0.9200252296562192\n",
      "F1 Score: 0.9194570385971799\n"
     ]
    }
   ],
   "source": [
    "from sklearn.metrics import accuracy_score, recall_score, precision_score, f1_score\n",
    "\n",
    "# Calculate metrics\n",
    "accuracy = accuracy_score(actuals, predictions)\n",
    "recall = recall_score(actuals, predictions, average='weighted')  # Use 'binary' for binary classification\n",
    "precision = precision_score(actuals, predictions, average='weighted')  # Use 'binary' for binary classification\n",
    "f1 = f1_score(actuals, predictions, average='weighted')  # Use 'binary' for binary classification\n",
    "\n",
    "# Print the metrics\n",
    "print(f\"Accuracy: {accuracy}\")\n",
    "print(f\"Recall: {recall}\")\n",
    "print(f\"Precision: {precision}\")\n",
    "print(f\"F1 Score: {f1}\")"
   ]
  }
 ],
 "metadata": {
  "kernelspec": {
   "display_name": "mathML",
   "language": "python",
   "name": "python3"
  },
  "language_info": {
   "codemirror_mode": {
    "name": "ipython",
    "version": 3
   },
   "file_extension": ".py",
   "mimetype": "text/x-python",
   "name": "python",
   "nbconvert_exporter": "python",
   "pygments_lexer": "ipython3",
   "version": "3.11.4"
  }
 },
 "nbformat": 4,
 "nbformat_minor": 2
}
